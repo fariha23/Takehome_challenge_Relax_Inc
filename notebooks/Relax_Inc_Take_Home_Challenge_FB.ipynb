{
 "cells": [
  {
   "cell_type": "code",
   "execution_count": 1,
   "metadata": {},
   "outputs": [],
   "source": [
    "import pandas as pd\n",
    "import numpy as np\n",
    "import matplotlib.pyplot as plt\n",
    "import seaborn as sns\n",
    "from sklearn import preprocessing\n",
    "from sklearn.utils import resample\n",
    "from sklearn.metrics import confusion_matrix\n",
    "from sklearn.model_selection import train_test_split\n",
    "from sklearn.model_selection import train_test_split, GridSearchCV\n",
    "from sklearn.ensemble import RandomForestClassifier,GradientBoostingClassifier\n",
    "from sklearn.metrics import precision_recall_fscore_support\n",
    "import cf_matrix as cf \n",
    "from collections import Counter\n",
    "import xgboost as xgb\n",
    "from sklearn.metrics import accuracy_score"
   ]
  },
  {
   "cell_type": "code",
   "execution_count": 74,
   "metadata": {},
   "outputs": [],
   "source": [
    "#functions\n",
    "def feature_importance(estimator, ax, title):\n",
    "    \n",
    "    feat_importances = pd.Series(estimator.feature_importances_, index=X.columns)\n",
    "    feat_importances.nlargest(20).plot(kind='barh', ax=ax)\n",
    "    plt.title(title,fontweight='bold')\n",
    "\n",
    "def col_transformed(df,col):\n",
    "    df_temp=df.copy()\n",
    "    enc=preprocessing.LabelEncoder()\n",
    "    enc=enc.fit(df_temp[col])\n",
    "    df_temp[col]=enc.transform(df_temp[col])\n",
    "    df=df_temp\n",
    "    return df\n",
    "\n",
    "def prec_re(y_test, y_pred, classifier):\n",
    "    ps,rs,fs,ss=precision_recall_fscore_support(y_test, y_pred, average=None,labels=[0,1,2])\n",
    "    df=pd.DataFrame({'precision': ps, 'recall': rs, 'f-score': fs, 'sample_size': ss})\n",
    "    return df.style.set_caption(\"Precision-Recall -\"+ classifier).\\\n",
    "        format({'precision': \"{:.2}\", 'recall': \"{:.2}\", 'f-score': \"{:.2}\" })\n",
    "\n",
    "def adop_user_tag(num):\n",
    "    if num >=3:\n",
    "        return 'Adopted_User'\n",
    "    elif (num < 3 and num >=1):\n",
    "        return 'Once_or_Twice_Logged_In'\n",
    "    else:\n",
    "        return 'Never_Logged_In'"
   ]
  },
  {
   "cell_type": "code",
   "execution_count": 3,
   "metadata": {},
   "outputs": [],
   "source": [
    "#All the data about users who signed up\n",
    "df_users=pd.read_csv('takehome_users.csv', encoding='latin1', parse_dates=['creation_time'])"
   ]
  },
  {
   "cell_type": "code",
   "execution_count": 4,
   "metadata": {},
   "outputs": [],
   "source": [
    "df_users.rename(columns={'object_id':'user_id'},inplace=True)"
   ]
  },
  {
   "cell_type": "code",
   "execution_count": 5,
   "metadata": {},
   "outputs": [],
   "source": [
    "#The data of  users' logging history\n",
    "df_user_eng = pd.read_csv('takehome_user_engagement.csv', parse_dates=['time_stamp'])"
   ]
  },
  {
   "cell_type": "code",
   "execution_count": 6,
   "metadata": {},
   "outputs": [],
   "source": [
    "#Changing unix times in last_session_created_time to pandas datatime type\n",
    "df_users['last_session_creation_time']=(pd.to_datetime(df_users['last_session_creation_time'],unit='s'))"
   ]
  },
  {
   "cell_type": "code",
   "execution_count": 7,
   "metadata": {},
   "outputs": [],
   "source": [
    "#df_users.info()"
   ]
  },
  {
   "cell_type": "code",
   "execution_count": 8,
   "metadata": {},
   "outputs": [],
   "source": [
    "#df_users.head(5)"
   ]
  },
  {
   "cell_type": "code",
   "execution_count": 9,
   "metadata": {},
   "outputs": [],
   "source": [
    "#df_user_eng.info()"
   ]
  },
  {
   "cell_type": "code",
   "execution_count": 10,
   "metadata": {},
   "outputs": [],
   "source": [
    "#df_user_eng.head(5)"
   ]
  },
  {
   "cell_type": "code",
   "execution_count": 11,
   "metadata": {},
   "outputs": [],
   "source": [
    "#df_user_eng['time_stamp'].max() \n",
    "#Timestamp('2014-06-06 14:58:50')"
   ]
  },
  {
   "cell_type": "code",
   "execution_count": 12,
   "metadata": {},
   "outputs": [],
   "source": [
    "#df_user_eng['time_stamp'].min()\n",
    "#Timestamp('2012-05-31 08:20:06')"
   ]
  },
  {
   "cell_type": "code",
   "execution_count": 13,
   "metadata": {},
   "outputs": [],
   "source": [
    "### The data goes from 2012-05-31 to 2014-06-06"
   ]
  },
  {
   "cell_type": "markdown",
   "metadata": {},
   "source": [
    "### Objective: \n",
    "What factors makes a user an 'adopted user'?\n",
    "\n",
    "An 'adopted user' is the one who connects to Relax Inc at least 3 days a week\n",
    "\n",
    "By examing the data of 'adopted users', can we predict factors that makes a user an 'adopted user'?"
   ]
  },
  {
   "cell_type": "code",
   "execution_count": 14,
   "metadata": {},
   "outputs": [
    {
     "name": "stderr",
     "output_type": "stream",
     "text": [
      "C:\\ProgramData\\Anaconda3\\lib\\site-packages\\ipykernel_launcher.py:4: FutureWarning: Series.dt.weekofyear and Series.dt.week have been deprecated.  Please use Series.dt.isocalendar().week instead.\n",
      "  after removing the cwd from sys.path.\n"
     ]
    }
   ],
   "source": [
    "df_user_eng['year']=df_user_eng['time_stamp'].dt.year\n",
    "df_user_eng['month']=df_user_eng['time_stamp'].dt.month\n",
    "df_user_eng['day']=df_user_eng['time_stamp'].dt.day\n",
    "df_user_eng['week']=df_user_eng['time_stamp'].dt.week\n",
    "\n",
    "df_user_eng.drop(['time_stamp'],axis=1, inplace=True)"
   ]
  },
  {
   "cell_type": "code",
   "execution_count": 15,
   "metadata": {},
   "outputs": [],
   "source": [
    "df_adp_user=df_user_eng.groupby(['user_id','year','week']).agg({'visited':'count'}).reset_index()\n",
    "#df_adp_user"
   ]
  },
  {
   "cell_type": "code",
   "execution_count": 16,
   "metadata": {},
   "outputs": [],
   "source": [
    "#True Adopted Users i.e. they visited >=3 times in any perioed of 7 days\n",
    "df_adpoted_user=df_adp_user[df_adp_user.visited >=3].reset_index(drop=True)\n",
    "#df_adpoted_user.info()    #33816 rows"
   ]
  },
  {
   "cell_type": "code",
   "execution_count": 17,
   "metadata": {},
   "outputs": [],
   "source": [
    "#Users that have visited < 3 times \n",
    "df_non_adp_user=df_adp_user[df_adp_user.visited <3].reset_index(drop=True)\n",
    "#df_non_adp_user.info() #35461"
   ]
  },
  {
   "cell_type": "code",
   "execution_count": 18,
   "metadata": {},
   "outputs": [],
   "source": [
    "df_adpoted_user_unique=df_adpoted_user.groupby(['user_id']).agg({'visited':'max'})\n",
    "df_adpoted_user_unique['user_id_unique']=df_adpoted_user_unique.index\n",
    "df_adpoted_user_unique.reset_index(drop=True, inplace=True)\n",
    "df_adpoted_user_unique.rename({'user_id_unique':'user_id'}, axis=1,inplace=True)"
   ]
  },
  {
   "cell_type": "code",
   "execution_count": 19,
   "metadata": {},
   "outputs": [],
   "source": [
    "df_non_adp_user_unique=df_non_adp_user.groupby(['user_id']).agg({'visited':'max'})\n",
    "df_non_adp_user_unique['user_id_unique']=df_non_adp_user_unique.index\n",
    "df_non_adp_user_unique.reset_index(drop=True, inplace=True)\n",
    "df_non_adp_user_unique.rename({'user_id_unique':'user_id'}, axis=1,inplace=True)"
   ]
  },
  {
   "cell_type": "code",
   "execution_count": 20,
   "metadata": {},
   "outputs": [
    {
     "data": {
      "text/html": [
       "<div>\n",
       "<style scoped>\n",
       "    .dataframe tbody tr th:only-of-type {\n",
       "        vertical-align: middle;\n",
       "    }\n",
       "\n",
       "    .dataframe tbody tr th {\n",
       "        vertical-align: top;\n",
       "    }\n",
       "\n",
       "    .dataframe thead th {\n",
       "        text-align: right;\n",
       "    }\n",
       "</style>\n",
       "<table border=\"1\" class=\"dataframe\">\n",
       "  <thead>\n",
       "    <tr style=\"text-align: right;\">\n",
       "      <th></th>\n",
       "      <th>visited</th>\n",
       "      <th>user_id</th>\n",
       "    </tr>\n",
       "  </thead>\n",
       "  <tbody>\n",
       "    <tr>\n",
       "      <th>0</th>\n",
       "      <td>1</td>\n",
       "      <td>1</td>\n",
       "    </tr>\n",
       "    <tr>\n",
       "      <th>1</th>\n",
       "      <td>2</td>\n",
       "      <td>2</td>\n",
       "    </tr>\n",
       "    <tr>\n",
       "      <th>2</th>\n",
       "      <td>1</td>\n",
       "      <td>3</td>\n",
       "    </tr>\n",
       "    <tr>\n",
       "      <th>3</th>\n",
       "      <td>1</td>\n",
       "      <td>4</td>\n",
       "    </tr>\n",
       "    <tr>\n",
       "      <th>4</th>\n",
       "      <td>1</td>\n",
       "      <td>5</td>\n",
       "    </tr>\n",
       "  </tbody>\n",
       "</table>\n",
       "</div>"
      ],
      "text/plain": [
       "   visited  user_id\n",
       "0        1        1\n",
       "1        2        2\n",
       "2        1        3\n",
       "3        1        4\n",
       "4        1        5"
      ]
     },
     "execution_count": 20,
     "metadata": {},
     "output_type": "execute_result"
    }
   ],
   "source": [
    "df_non_adp_user_unique.sort_values(by='user_id').head()"
   ]
  },
  {
   "cell_type": "code",
   "execution_count": 21,
   "metadata": {},
   "outputs": [],
   "source": [
    "df_combine_unq_users=pd.merge(df_adpoted_user_unique,df_non_adp_user_unique,how='outer',on='user_id')"
   ]
  },
  {
   "cell_type": "code",
   "execution_count": 22,
   "metadata": {},
   "outputs": [],
   "source": [
    "df_combine_unq_users.fillna(0,inplace=True)"
   ]
  },
  {
   "cell_type": "code",
   "execution_count": 23,
   "metadata": {},
   "outputs": [],
   "source": [
    "df_combine_unq_users['visited'] = df_combine_unq_users.apply(lambda z: max(z['visited_x'], z['visited_y']), axis=1)\n",
    "df_combine_unq_users.drop(['visited_x','visited_y'], axis=1,inplace=True)"
   ]
  },
  {
   "cell_type": "code",
   "execution_count": 24,
   "metadata": {},
   "outputs": [],
   "source": [
    "#df_combine_unq_users contains all the users with their number of visits per year per week"
   ]
  },
  {
   "cell_type": "code",
   "execution_count": 25,
   "metadata": {},
   "outputs": [],
   "source": [
    "#concat the df_users with df_combined_unq_users on left as we want to keep all the rows of df_users"
   ]
  },
  {
   "cell_type": "code",
   "execution_count": 26,
   "metadata": {},
   "outputs": [],
   "source": [
    "df_adp_unq_with_eng=pd.merge(df_users,df_combine_unq_users,how='left',on='user_id')"
   ]
  },
  {
   "cell_type": "code",
   "execution_count": 27,
   "metadata": {},
   "outputs": [],
   "source": [
    "df_adp_unq_with_eng['visited'].fillna(0,inplace=True)"
   ]
  },
  {
   "cell_type": "code",
   "execution_count": 28,
   "metadata": {},
   "outputs": [
    {
     "name": "stdout",
     "output_type": "stream",
     "text": [
      "<class 'pandas.core.frame.DataFrame'>\n",
      "Int64Index: 12000 entries, 0 to 11999\n",
      "Data columns (total 11 columns):\n",
      " #   Column                      Non-Null Count  Dtype         \n",
      "---  ------                      --------------  -----         \n",
      " 0   user_id                     12000 non-null  int64         \n",
      " 1   creation_time               12000 non-null  datetime64[ns]\n",
      " 2   name                        12000 non-null  object        \n",
      " 3   email                       12000 non-null  object        \n",
      " 4   creation_source             12000 non-null  object        \n",
      " 5   last_session_creation_time  8823 non-null   datetime64[ns]\n",
      " 6   opted_in_to_mailing_list    12000 non-null  int64         \n",
      " 7   enabled_for_marketing_drip  12000 non-null  int64         \n",
      " 8   org_id                      12000 non-null  int64         \n",
      " 9   invited_by_user_id          6417 non-null   float64       \n",
      " 10  visited                     12000 non-null  float64       \n",
      "dtypes: datetime64[ns](2), float64(2), int64(4), object(3)\n",
      "memory usage: 1.1+ MB\n"
     ]
    }
   ],
   "source": [
    "df_adp_unq_with_eng.info()"
   ]
  },
  {
   "cell_type": "code",
   "execution_count": 29,
   "metadata": {},
   "outputs": [],
   "source": [
    "df_adp_unq_with_eng['adopted_user_level']=df_adp_unq_with_eng.apply(lambda x: adop_user_tag(x['visited']), axis=1)"
   ]
  },
  {
   "cell_type": "code",
   "execution_count": 30,
   "metadata": {},
   "outputs": [
    {
     "data": {
      "image/png": "[encoded data removed]",
      "text/plain": [
       "<Figure size 576x360 with 1 Axes>"
      ]
     },
     "metadata": {
      "needs_background": "light"
     },
     "output_type": "display_data"
    }
   ],
   "source": [
    "plt.figure(figsize=(8,5))\n",
    "df_adp_unq_with_eng.groupby(['adopted_user_level'])['adopted_user_level'].count().plot.bar()\n",
    "plt.xlabel('Types of Users',fontweight='bold')\n",
    "plt.xticks(rotation=0,fontweight='bold')\n",
    "plt.ylabel('Number of Users',fontweight='bold')\n",
    "plt.title('Adopted User Frequency',fontweight='bold')\n",
    "plt.savefig('Types_Users_Distribution')"
   ]
  },
  {
   "cell_type": "code",
   "execution_count": 31,
   "metadata": {},
   "outputs": [],
   "source": [
    "df_adp_unq_with_eng['creation_hour']=df_adp_unq_with_eng.creation_time.dt.hour\n",
    "df_adp_unq_with_eng['creation_month']=df_adp_unq_with_eng.creation_time.dt.month"
   ]
  },
  {
   "cell_type": "code",
   "execution_count": 32,
   "metadata": {},
   "outputs": [],
   "source": [
    "df=df_adp_unq_with_eng.groupby(['creation_source','adopted_user_level']).agg({'adopted_user_level':'count'}).rename({'adopted_user_level':'count_of_users'},axis=1).reset_index()"
   ]
  },
  {
   "cell_type": "code",
   "execution_count": 33,
   "metadata": {},
   "outputs": [
    {
     "data": {
      "text/plain": [
       "<Figure size 720x360 with 0 Axes>"
      ]
     },
     "metadata": {},
     "output_type": "display_data"
    },
    {
     "data": {
      "image/png": "[encoded data removed]",
      "text/plain": [
       "<Figure size 432x288 with 1 Axes>"
      ]
     },
     "metadata": {},
     "output_type": "display_data"
    }
   ],
   "source": [
    "plt.figure(figsize=(10,5))\n",
    "(df[df.adopted_user_level=='Adopted_User'][['creation_source','count_of_users']]).set_index('creation_source').plot.pie(y='count_of_users',ylabel='',legend=False,\\\n",
    "                   autopct='%1.1f%%')\n",
    "\n",
    "plt.title(\"Number of Adopted Users - Per Source Caterogry\", fontweight='bold')\n",
    "plt.tight_layout\n",
    "plt.savefig('pie_chart_adapted_users_per_cat.jpg')"
   ]
  },
  {
   "cell_type": "code",
   "execution_count": 34,
   "metadata": {},
   "outputs": [
    {
     "data": {
      "text/plain": [
       "<Figure size 720x360 with 0 Axes>"
      ]
     },
     "metadata": {},
     "output_type": "display_data"
    },
    {
     "data": {
      "image/png": "[encoded data removed]",
      "text/plain": [
       "<Figure size 432x288 with 1 Axes>"
      ]
     },
     "metadata": {},
     "output_type": "display_data"
    }
   ],
   "source": [
    "plt.figure(figsize=(10,5))\n",
    "(df[df.adopted_user_level=='Once_or_Twice_Logged_In'][['creation_source','count_of_users']]).set_index('creation_source').plot.pie(y='count_of_users',ylabel='',legend=False,\\\n",
    "                   autopct='%1.1f%%')\n",
    "plt.title(\"Number of Users that Logged Once or Twice - Per Source Caterogry\")\n",
    "plt.tight_layout\n",
    "plt.savefig('pie_chart_once_or_twice_logged_per_cat.jpg')"
   ]
  },
  {
   "cell_type": "code",
   "execution_count": 35,
   "metadata": {},
   "outputs": [
    {
     "data": {
      "text/plain": [
       "<Figure size 720x360 with 0 Axes>"
      ]
     },
     "metadata": {},
     "output_type": "display_data"
    },
    {
     "data": {
      "image/png": "[encoded data removed]",
      "text/plain": [
       "<Figure size 432x288 with 1 Axes>"
      ]
     },
     "metadata": {},
     "output_type": "display_data"
    }
   ],
   "source": [
    "plt.figure(figsize=(10,5))\n",
    "(df[df.adopted_user_level=='Never_Logged_In'][['creation_source','count_of_users']]).set_index('creation_source').plot.pie(y='count_of_users',ylabel='',legend=False,\\\n",
    "                   autopct='%1.1f%%')\n",
    "plt.xlabel('Source Category')\n",
    "plt.ylabel('Number of Users')\n",
    "plt.title(\"Number of Users that Never Logged In - Per Source Caterogry\")\n",
    "plt.tight_layout\n",
    "plt.savefig('pie_chart_never_logged_in_per_cat.jpg')"
   ]
  },
  {
   "cell_type": "code",
   "execution_count": 36,
   "metadata": {},
   "outputs": [],
   "source": [
    "df_m=df_adp_unq_with_eng.groupby(['creation_month','adopted_user_level']).agg({'adopted_user_level':'count'}).rename({'adopted_user_level':'count_of_users'},axis=1).reset_index()"
   ]
  },
  {
   "cell_type": "code",
   "execution_count": 37,
   "metadata": {},
   "outputs": [
    {
     "data": {
      "text/plain": [
       "<Figure size 720x360 with 0 Axes>"
      ]
     },
     "metadata": {},
     "output_type": "display_data"
    },
    {
     "data": {
      "image/png": "[encoded data removed]",
      "text/plain": [
       "<Figure size 432x288 with 1 Axes>"
      ]
     },
     "metadata": {},
     "output_type": "display_data"
    }
   ],
   "source": [
    "plt.figure(figsize=(10,5))\n",
    "(df_m[df_m.adopted_user_level=='Never_Logged_In'][['creation_month','count_of_users']]).set_index('creation_month').plot.pie(y='count_of_users',ylabel='',legend=False,\\\n",
    "                   autopct='%1.1f%%')\n",
    "plt.xlabel('Creation Month')\n",
    "plt.ylabel('Number of Users')\n",
    "plt.title(\"Number of Users that Never Logged In - Per Creation Month\")\n",
    "plt.tight_layout\n",
    "plt.savefig('pie_chart_never_logged_in_per_month.jpg')"
   ]
  },
  {
   "cell_type": "code",
   "execution_count": 38,
   "metadata": {},
   "outputs": [
    {
     "data": {
      "text/plain": [
       "<Figure size 720x360 with 0 Axes>"
      ]
     },
     "metadata": {},
     "output_type": "display_data"
    },
    {
     "data": {
      "image/png": "[encoded data removed]",
      "text/plain": [
       "<Figure size 432x288 with 1 Axes>"
      ]
     },
     "metadata": {},
     "output_type": "display_data"
    }
   ],
   "source": [
    "plt.figure(figsize=(10,5))\n",
    "(df_m[df_m.adopted_user_level=='Once_or_Twice_Logged_In'][['creation_month','count_of_users']]).set_index('creation_month').plot.pie(y='count_of_users',ylabel='',legend=False,\\\n",
    "                   autopct='%1.1f%%')\n",
    "plt.xlabel('Creation Month')\n",
    "plt.ylabel('Number of Users')\n",
    "plt.title(\"Number of Users that Never Logged In - Per Creation Month\")\n",
    "plt.tight_layout\n",
    "plt.savefig('pie_chart_onceortwice_logged_in_per_month.jpg')"
   ]
  },
  {
   "cell_type": "code",
   "execution_count": 39,
   "metadata": {},
   "outputs": [
    {
     "data": {
      "text/plain": [
       "<Figure size 720x360 with 0 Axes>"
      ]
     },
     "metadata": {},
     "output_type": "display_data"
    },
    {
     "data": {
      "image/png": "[encoded data removed]",
      "text/plain": [
       "<Figure size 432x288 with 1 Axes>"
      ]
     },
     "metadata": {},
     "output_type": "display_data"
    }
   ],
   "source": [
    "plt.figure(figsize=(10,5))\n",
    "(df_m[df_m.adopted_user_level=='Adopted_User'][['creation_month','count_of_users']]).set_index('creation_month').plot.pie(y='count_of_users',ylabel='',legend=False,\\\n",
    "                   autopct='%1.1f%%')\n",
    "plt.xlabel('Creation Month')\n",
    "plt.ylabel('Number of Users')\n",
    "plt.title(\"Number of Users that Never Logged In - Per Creation Month\")\n",
    "plt.tight_layout\n",
    "plt.savefig('pie_chart_Adopted_User_per_month.jpg')"
   ]
  },
  {
   "cell_type": "code",
   "execution_count": 109,
   "metadata": {},
   "outputs": [
    {
     "data": {
      "text/plain": [
       "<Figure size 720x576 with 0 Axes>"
      ]
     },
     "metadata": {},
     "output_type": "display_data"
    },
    {
     "data": {
      "image/png": "[encoded data removed]",
      "text/plain": [
       "<Figure size 720x360 with 1 Axes>"
      ]
     },
     "metadata": {},
     "output_type": "display_data"
    }
   ],
   "source": [
    "#sns.set(rc={'figure.figsize':(1,1)})\n",
    "plt.figure(figsize=(10,8))\n",
    "fg = sns.catplot(x='creation_month', y='count_of_users', hue='adopted_user_level', data=df_m, kind='bar', legend_out=False)\n",
    "fg.fig.set_figwidth(10)\n",
    "fg.fig.set_figheight(5)\n",
    "plt.title(\"Types of Users Engaged Per Month\", fontweight='bold')\n",
    "plt.xlabel(\"Month\", fontweight='bold')\n",
    "plt.ylabel(\"Number of Users\", fontweight='bold')\n",
    "\n",
    "plt.savefig('bar_all_types_users_in_per_month.jpg')\n"
   ]
  },
  {
   "cell_type": "code",
   "execution_count": 41,
   "metadata": {},
   "outputs": [
    {
     "data": {
      "text/html": [
       "<div>\n",
       "<style scoped>\n",
       "    .dataframe tbody tr th:only-of-type {\n",
       "        vertical-align: middle;\n",
       "    }\n",
       "\n",
       "    .dataframe tbody tr th {\n",
       "        vertical-align: top;\n",
       "    }\n",
       "\n",
       "    .dataframe thead tr th {\n",
       "        text-align: left;\n",
       "    }\n",
       "\n",
       "    .dataframe thead tr:last-of-type th {\n",
       "        text-align: right;\n",
       "    }\n",
       "</style>\n",
       "<table border=\"1\" class=\"dataframe\">\n",
       "  <thead>\n",
       "    <tr>\n",
       "      <th></th>\n",
       "      <th colspan=\"3\" halign=\"left\">adopted_user_level</th>\n",
       "    </tr>\n",
       "    <tr>\n",
       "      <th>adopted_user_level</th>\n",
       "      <th>Adopted_User</th>\n",
       "      <th>Never_Logged_In</th>\n",
       "      <th>Once_or_Twice_Logged_In</th>\n",
       "    </tr>\n",
       "    <tr>\n",
       "      <th>creation_month</th>\n",
       "      <th></th>\n",
       "      <th></th>\n",
       "      <th></th>\n",
       "    </tr>\n",
       "  </thead>\n",
       "  <tbody>\n",
       "    <tr>\n",
       "      <th>1</th>\n",
       "      <td>131</td>\n",
       "      <td>273</td>\n",
       "      <td>625</td>\n",
       "    </tr>\n",
       "    <tr>\n",
       "      <th>2</th>\n",
       "      <td>117</td>\n",
       "      <td>222</td>\n",
       "      <td>595</td>\n",
       "    </tr>\n",
       "    <tr>\n",
       "      <th>3</th>\n",
       "      <td>126</td>\n",
       "      <td>302</td>\n",
       "      <td>749</td>\n",
       "    </tr>\n",
       "    <tr>\n",
       "      <th>4</th>\n",
       "      <td>89</td>\n",
       "      <td>302</td>\n",
       "      <td>778</td>\n",
       "    </tr>\n",
       "    <tr>\n",
       "      <th>5</th>\n",
       "      <td>68</td>\n",
       "      <td>409</td>\n",
       "      <td>978</td>\n",
       "    </tr>\n",
       "    <tr>\n",
       "      <th>6</th>\n",
       "      <td>137</td>\n",
       "      <td>236</td>\n",
       "      <td>468</td>\n",
       "    </tr>\n",
       "    <tr>\n",
       "      <th>7</th>\n",
       "      <td>111</td>\n",
       "      <td>252</td>\n",
       "      <td>489</td>\n",
       "    </tr>\n",
       "    <tr>\n",
       "      <th>8</th>\n",
       "      <td>131</td>\n",
       "      <td>208</td>\n",
       "      <td>513</td>\n",
       "    </tr>\n",
       "    <tr>\n",
       "      <th>9</th>\n",
       "      <td>129</td>\n",
       "      <td>245</td>\n",
       "      <td>527</td>\n",
       "    </tr>\n",
       "    <tr>\n",
       "      <th>10</th>\n",
       "      <td>154</td>\n",
       "      <td>223</td>\n",
       "      <td>547</td>\n",
       "    </tr>\n",
       "    <tr>\n",
       "      <th>11</th>\n",
       "      <td>135</td>\n",
       "      <td>259</td>\n",
       "      <td>542</td>\n",
       "    </tr>\n",
       "    <tr>\n",
       "      <th>12</th>\n",
       "      <td>116</td>\n",
       "      <td>246</td>\n",
       "      <td>568</td>\n",
       "    </tr>\n",
       "  </tbody>\n",
       "</table>\n",
       "</div>"
      ],
      "text/plain": [
       "                   adopted_user_level                                        \n",
       "adopted_user_level       Adopted_User Never_Logged_In Once_or_Twice_Logged_In\n",
       "creation_month                                                               \n",
       "1                                 131             273                     625\n",
       "2                                 117             222                     595\n",
       "3                                 126             302                     749\n",
       "4                                  89             302                     778\n",
       "5                                  68             409                     978\n",
       "6                                 137             236                     468\n",
       "7                                 111             252                     489\n",
       "8                                 131             208                     513\n",
       "9                                 129             245                     527\n",
       "10                                154             223                     547\n",
       "11                                135             259                     542\n",
       "12                                116             246                     568"
      ]
     },
     "execution_count": 41,
     "metadata": {},
     "output_type": "execute_result"
    }
   ],
   "source": [
    "df_adp_unq_with_eng.groupby(['creation_month','adopted_user_level']).agg({'adopted_user_level':'count'}).unstack('adopted_user_level')"
   ]
  },
  {
   "cell_type": "code",
   "execution_count": 42,
   "metadata": {},
   "outputs": [],
   "source": [
    "#creating org_size column\n",
    "org_id_size_dict=df_adp_unq_with_eng.groupby(['org_id'])['org_id'].count().to_dict()\n",
    "df_adp_unq_with_eng['org_size']=df_adp_unq_with_eng['org_id'].map(org_id_size_dict)"
   ]
  },
  {
   "cell_type": "code",
   "execution_count": 43,
   "metadata": {},
   "outputs": [],
   "source": [
    "df_adp_unq_with_eng['invited_by_a_user']=df_adp_unq_with_eng['invited_by_user_id'].apply(lambda x: 0 if pd.isnull(x) else 1)"
   ]
  },
  {
   "cell_type": "code",
   "execution_count": 44,
   "metadata": {},
   "outputs": [
    {
     "data": {
      "text/html": [
       "<div>\n",
       "<style scoped>\n",
       "    .dataframe tbody tr th:only-of-type {\n",
       "        vertical-align: middle;\n",
       "    }\n",
       "\n",
       "    .dataframe tbody tr th {\n",
       "        vertical-align: top;\n",
       "    }\n",
       "\n",
       "    .dataframe thead th {\n",
       "        text-align: right;\n",
       "    }\n",
       "</style>\n",
       "<table border=\"1\" class=\"dataframe\">\n",
       "  <thead>\n",
       "    <tr style=\"text-align: right;\">\n",
       "      <th></th>\n",
       "      <th>user_id</th>\n",
       "      <th>creation_time</th>\n",
       "      <th>name</th>\n",
       "      <th>email</th>\n",
       "      <th>creation_source</th>\n",
       "      <th>last_session_creation_time</th>\n",
       "      <th>opted_in_to_mailing_list</th>\n",
       "      <th>enabled_for_marketing_drip</th>\n",
       "      <th>org_id</th>\n",
       "      <th>invited_by_user_id</th>\n",
       "      <th>visited</th>\n",
       "      <th>adopted_user_level</th>\n",
       "      <th>creation_hour</th>\n",
       "      <th>creation_month</th>\n",
       "      <th>org_size</th>\n",
       "      <th>invited_by_a_user</th>\n",
       "    </tr>\n",
       "  </thead>\n",
       "  <tbody>\n",
       "    <tr>\n",
       "      <th>0</th>\n",
       "      <td>1</td>\n",
       "      <td>2014-04-22 03:53:30</td>\n",
       "      <td>Clausen August</td>\n",
       "      <td>AugustCClausen@yahoo.com</td>\n",
       "      <td>GUEST_INVITE</td>\n",
       "      <td>2014-04-22 03:53:30</td>\n",
       "      <td>1</td>\n",
       "      <td>0</td>\n",
       "      <td>11</td>\n",
       "      <td>10803.0</td>\n",
       "      <td>1.0</td>\n",
       "      <td>Once_or_Twice_Logged_In</td>\n",
       "      <td>3</td>\n",
       "      <td>4</td>\n",
       "      <td>75</td>\n",
       "      <td>1</td>\n",
       "    </tr>\n",
       "    <tr>\n",
       "      <th>1</th>\n",
       "      <td>2</td>\n",
       "      <td>2013-11-15 03:45:04</td>\n",
       "      <td>Poole Matthew</td>\n",
       "      <td>MatthewPoole@gustr.com</td>\n",
       "      <td>ORG_INVITE</td>\n",
       "      <td>2014-03-31 03:45:04</td>\n",
       "      <td>0</td>\n",
       "      <td>0</td>\n",
       "      <td>1</td>\n",
       "      <td>316.0</td>\n",
       "      <td>3.0</td>\n",
       "      <td>Adopted_User</td>\n",
       "      <td>3</td>\n",
       "      <td>11</td>\n",
       "      <td>233</td>\n",
       "      <td>1</td>\n",
       "    </tr>\n",
       "    <tr>\n",
       "      <th>2</th>\n",
       "      <td>3</td>\n",
       "      <td>2013-03-19 23:14:52</td>\n",
       "      <td>Bottrill Mitchell</td>\n",
       "      <td>MitchellBottrill@gustr.com</td>\n",
       "      <td>ORG_INVITE</td>\n",
       "      <td>2013-03-19 23:14:52</td>\n",
       "      <td>0</td>\n",
       "      <td>0</td>\n",
       "      <td>94</td>\n",
       "      <td>1525.0</td>\n",
       "      <td>1.0</td>\n",
       "      <td>Once_or_Twice_Logged_In</td>\n",
       "      <td>23</td>\n",
       "      <td>3</td>\n",
       "      <td>32</td>\n",
       "      <td>1</td>\n",
       "    </tr>\n",
       "    <tr>\n",
       "      <th>3</th>\n",
       "      <td>4</td>\n",
       "      <td>2013-05-21 08:09:28</td>\n",
       "      <td>Clausen Nicklas</td>\n",
       "      <td>NicklasSClausen@yahoo.com</td>\n",
       "      <td>GUEST_INVITE</td>\n",
       "      <td>2013-05-22 08:09:28</td>\n",
       "      <td>0</td>\n",
       "      <td>0</td>\n",
       "      <td>1</td>\n",
       "      <td>5151.0</td>\n",
       "      <td>1.0</td>\n",
       "      <td>Once_or_Twice_Logged_In</td>\n",
       "      <td>8</td>\n",
       "      <td>5</td>\n",
       "      <td>233</td>\n",
       "      <td>1</td>\n",
       "    </tr>\n",
       "    <tr>\n",
       "      <th>4</th>\n",
       "      <td>5</td>\n",
       "      <td>2013-01-17 10:14:20</td>\n",
       "      <td>Raw Grace</td>\n",
       "      <td>GraceRaw@yahoo.com</td>\n",
       "      <td>GUEST_INVITE</td>\n",
       "      <td>2013-01-22 10:14:20</td>\n",
       "      <td>0</td>\n",
       "      <td>0</td>\n",
       "      <td>193</td>\n",
       "      <td>5240.0</td>\n",
       "      <td>1.0</td>\n",
       "      <td>Once_or_Twice_Logged_In</td>\n",
       "      <td>10</td>\n",
       "      <td>1</td>\n",
       "      <td>16</td>\n",
       "      <td>1</td>\n",
       "    </tr>\n",
       "  </tbody>\n",
       "</table>\n",
       "</div>"
      ],
      "text/plain": [
       "   user_id       creation_time               name                       email  \\\n",
       "0        1 2014-04-22 03:53:30     Clausen August    AugustCClausen@yahoo.com   \n",
       "1        2 2013-11-15 03:45:04      Poole Matthew      MatthewPoole@gustr.com   \n",
       "2        3 2013-03-19 23:14:52  Bottrill Mitchell  MitchellBottrill@gustr.com   \n",
       "3        4 2013-05-21 08:09:28    Clausen Nicklas   NicklasSClausen@yahoo.com   \n",
       "4        5 2013-01-17 10:14:20          Raw Grace          GraceRaw@yahoo.com   \n",
       "\n",
       "  creation_source last_session_creation_time  opted_in_to_mailing_list  \\\n",
       "0    GUEST_INVITE        2014-04-22 03:53:30                         1   \n",
       "1      ORG_INVITE        2014-03-31 03:45:04                         0   \n",
       "2      ORG_INVITE        2013-03-19 23:14:52                         0   \n",
       "3    GUEST_INVITE        2013-05-22 08:09:28                         0   \n",
       "4    GUEST_INVITE        2013-01-22 10:14:20                         0   \n",
       "\n",
       "   enabled_for_marketing_drip  org_id  invited_by_user_id  visited  \\\n",
       "0                           0      11             10803.0      1.0   \n",
       "1                           0       1               316.0      3.0   \n",
       "2                           0      94              1525.0      1.0   \n",
       "3                           0       1              5151.0      1.0   \n",
       "4                           0     193              5240.0      1.0   \n",
       "\n",
       "        adopted_user_level  creation_hour  creation_month  org_size  \\\n",
       "0  Once_or_Twice_Logged_In              3               4        75   \n",
       "1             Adopted_User              3              11       233   \n",
       "2  Once_or_Twice_Logged_In             23               3        32   \n",
       "3  Once_or_Twice_Logged_In              8               5       233   \n",
       "4  Once_or_Twice_Logged_In             10               1        16   \n",
       "\n",
       "   invited_by_a_user  \n",
       "0                  1  \n",
       "1                  1  \n",
       "2                  1  \n",
       "3                  1  \n",
       "4                  1  "
      ]
     },
     "execution_count": 44,
     "metadata": {},
     "output_type": "execute_result"
    }
   ],
   "source": [
    "df_adp_unq_with_eng.head()"
   ]
  },
  {
   "cell_type": "code",
   "execution_count": 45,
   "metadata": {},
   "outputs": [],
   "source": [
    "### PreProcessing for Model"
   ]
  },
  {
   "cell_type": "code",
   "execution_count": 46,
   "metadata": {},
   "outputs": [],
   "source": [
    "df2=df_adp_unq_with_eng.drop(['last_session_creation_time', 'email','name','creation_time','user_id','org_id','visited','invited_by_user_id'],axis=1)"
   ]
  },
  {
   "cell_type": "code",
   "execution_count": 47,
   "metadata": {},
   "outputs": [],
   "source": [
    "df2=col_transformed(df2,'creation_source')\n",
    "df2=col_transformed(df2,'adopted_user_level')"
   ]
  },
  {
   "cell_type": "code",
   "execution_count": 48,
   "metadata": {},
   "outputs": [
    {
     "data": {
      "text/plain": [
       "2    1444\n",
       "1    1444\n",
       "0    1444\n",
       "Name: adopted_user_level, dtype: int64"
      ]
     },
     "execution_count": 48,
     "metadata": {},
     "output_type": "execute_result"
    }
   ],
   "source": [
    "# Separate majority and minority classes\n",
    "df2_class0 = df2[df2.adopted_user_level==0] #minority class\n",
    "df2_class1 = df2[df2.adopted_user_level==1] #in between\n",
    "df2_class2 = df2[df2.adopted_user_level==2] #majority class\n",
    "\n",
    "\n",
    " \n",
    "# Downsample class2\n",
    "df_majority_downsampled = resample(df2_class2, \n",
    "                                 replace=False,    # sample without replacement\n",
    "                                 n_samples=1444,     # to match minority class\n",
    "                                 random_state=123) # reproducible results\n",
    "df_inbetween_downsampled = resample(df2_class1, \n",
    "                                 replace=False,    # sample without replacement\n",
    "                                 n_samples=1444,     # to match minority class\n",
    "                                 random_state=123) # reproducible results\n",
    " \n",
    "# Combine downsampled majority and inbetween class\n",
    "df_downsampled = pd.concat([df_majority_downsampled, df_inbetween_downsampled])\n",
    "\n",
    "# Combine minority class with df_downsampled\n",
    "\n",
    "df2_downsampled=pd.concat([df_downsampled,df2_class0])\n",
    " \n",
    "# Display new class counts\n",
    "df2_downsampled.adopted_user_level.value_counts()\n"
   ]
  },
  {
   "cell_type": "code",
   "execution_count": 49,
   "metadata": {},
   "outputs": [
    {
     "data": {
      "text/html": [
       "<div>\n",
       "<style scoped>\n",
       "    .dataframe tbody tr th:only-of-type {\n",
       "        vertical-align: middle;\n",
       "    }\n",
       "\n",
       "    .dataframe tbody tr th {\n",
       "        vertical-align: top;\n",
       "    }\n",
       "\n",
       "    .dataframe thead th {\n",
       "        text-align: right;\n",
       "    }\n",
       "</style>\n",
       "<table border=\"1\" class=\"dataframe\">\n",
       "  <thead>\n",
       "    <tr style=\"text-align: right;\">\n",
       "      <th></th>\n",
       "      <th>creation_source</th>\n",
       "      <th>opted_in_to_mailing_list</th>\n",
       "      <th>enabled_for_marketing_drip</th>\n",
       "      <th>adopted_user_level</th>\n",
       "      <th>creation_hour</th>\n",
       "      <th>creation_month</th>\n",
       "      <th>org_size</th>\n",
       "      <th>invited_by_a_user</th>\n",
       "    </tr>\n",
       "  </thead>\n",
       "  <tbody>\n",
       "    <tr>\n",
       "      <th>10247</th>\n",
       "      <td>2</td>\n",
       "      <td>0</td>\n",
       "      <td>0</td>\n",
       "      <td>2</td>\n",
       "      <td>13</td>\n",
       "      <td>6</td>\n",
       "      <td>48</td>\n",
       "      <td>0</td>\n",
       "    </tr>\n",
       "    <tr>\n",
       "      <th>9356</th>\n",
       "      <td>0</td>\n",
       "      <td>0</td>\n",
       "      <td>0</td>\n",
       "      <td>2</td>\n",
       "      <td>1</td>\n",
       "      <td>12</td>\n",
       "      <td>233</td>\n",
       "      <td>1</td>\n",
       "    </tr>\n",
       "    <tr>\n",
       "      <th>16</th>\n",
       "      <td>0</td>\n",
       "      <td>1</td>\n",
       "      <td>0</td>\n",
       "      <td>2</td>\n",
       "      <td>14</td>\n",
       "      <td>4</td>\n",
       "      <td>24</td>\n",
       "      <td>1</td>\n",
       "    </tr>\n",
       "    <tr>\n",
       "      <th>6794</th>\n",
       "      <td>2</td>\n",
       "      <td>0</td>\n",
       "      <td>0</td>\n",
       "      <td>2</td>\n",
       "      <td>22</td>\n",
       "      <td>5</td>\n",
       "      <td>19</td>\n",
       "      <td>0</td>\n",
       "    </tr>\n",
       "    <tr>\n",
       "      <th>726</th>\n",
       "      <td>1</td>\n",
       "      <td>0</td>\n",
       "      <td>0</td>\n",
       "      <td>2</td>\n",
       "      <td>2</td>\n",
       "      <td>7</td>\n",
       "      <td>168</td>\n",
       "      <td>1</td>\n",
       "    </tr>\n",
       "  </tbody>\n",
       "</table>\n",
       "</div>"
      ],
      "text/plain": [
       "       creation_source  opted_in_to_mailing_list  enabled_for_marketing_drip  \\\n",
       "10247                2                         0                           0   \n",
       "9356                 0                         0                           0   \n",
       "16                   0                         1                           0   \n",
       "6794                 2                         0                           0   \n",
       "726                  1                         0                           0   \n",
       "\n",
       "       adopted_user_level  creation_hour  creation_month  org_size  \\\n",
       "10247                   2             13               6        48   \n",
       "9356                    2              1              12       233   \n",
       "16                      2             14               4        24   \n",
       "6794                    2             22               5        19   \n",
       "726                     2              2               7       168   \n",
       "\n",
       "       invited_by_a_user  \n",
       "10247                  0  \n",
       "9356                   1  \n",
       "16                     1  \n",
       "6794                   0  \n",
       "726                    1  "
      ]
     },
     "execution_count": 49,
     "metadata": {},
     "output_type": "execute_result"
    }
   ],
   "source": [
    "df2_downsampled.head()"
   ]
  },
  {
   "cell_type": "code",
   "execution_count": 50,
   "metadata": {},
   "outputs": [],
   "source": [
    "y=df2_downsampled['adopted_user_level']"
   ]
  },
  {
   "cell_type": "code",
   "execution_count": 51,
   "metadata": {},
   "outputs": [],
   "source": [
    "X=df2_downsampled.drop(['adopted_user_level'],axis=1)"
   ]
  },
  {
   "cell_type": "code",
   "execution_count": 52,
   "metadata": {},
   "outputs": [],
   "source": [
    "X_train,X_test, y_train, y_test =train_test_split(X,y, random_state=0)"
   ]
  },
  {
   "cell_type": "code",
   "execution_count": 53,
   "metadata": {},
   "outputs": [],
   "source": [
    "param_grid=[{'n_estimators':list(range(20,100,10))}]\n",
    "gb=GradientBoostingClassifier()\n",
    "\n",
    "gb_cv=GridSearchCV(gb,param_grid)\n",
    "gb_cv.fit(X_train, y_train)\n",
    "\n",
    "y_pred_gb=gb_cv.predict(X_test)"
   ]
  },
  {
   "cell_type": "code",
   "execution_count": 76,
   "metadata": {},
   "outputs": [
    {
     "data": {
      "text/plain": [
       "0.4792243767313019"
      ]
     },
     "execution_count": 76,
     "metadata": {},
     "output_type": "execute_result"
    }
   ],
   "source": [
    "accuracy_score(y_test, y_pred_gb)"
   ]
  },
  {
   "cell_type": "code",
   "execution_count": 77,
   "metadata": {},
   "outputs": [
    {
     "data": {
      "text/plain": [
       "(0.49123148038402287, {'n_estimators': 20})"
      ]
     },
     "execution_count": 77,
     "metadata": {},
     "output_type": "execute_result"
    }
   ],
   "source": [
    "gb_cv.best_score_, gb_cv.best_params_"
   ]
  },
  {
   "cell_type": "code",
   "execution_count": 79,
   "metadata": {},
   "outputs": [
    {
     "data": {
      "image/png": "[encoded data removed]",
      "text/plain": [
       "<Figure size 576x360 with 1 Axes>"
      ]
     },
     "metadata": {
      "needs_background": "light"
     },
     "output_type": "display_data"
    }
   ],
   "source": [
    "fig, axes=plt.subplots(1,1, figsize=(8,5))\n",
    "feature_importance(gb_cv.best_estimator_, axes, 'GB_cv')\n",
    "plt.xticks(fontweight='bold')\n",
    "plt.yticks(fontweight='bold',rotation=45)\n",
    "plt.savefig('CM_GB_FeatureImp.jpg',pad_inches = 0)\n",
    "plt.tight_layout()"
   ]
  },
  {
   "cell_type": "code",
   "execution_count": 98,
   "metadata": {},
   "outputs": [
    {
     "data": {
      "image/png": "[encoded data removed]",
      "text/plain": [
       "<Figure size 576x288 with 1 Axes>"
      ]
     },
     "metadata": {
      "needs_background": "light"
     },
     "output_type": "display_data"
    }
   ],
   "source": [
    "cm=confusion_matrix(y_test, y_pred_gb,  labels=[0, 1, 2])\n",
    "cf.make_confusion_matrix(cm, figsize=(8,4), cbar=False, title='Confusion Matrix - GB')\n",
    "plt.savefig('CM-GB.jpg', bbox_inches = \"tight\")\n",
    "#Accuracy is sum of diagonal divided by total observations"
   ]
  },
  {
   "cell_type": "code",
   "execution_count": 134,
   "metadata": {},
   "outputs": [
    {
     "data": {
      "text/html": [
       "<style  type=\"text/css\" >\n",
       "</style><table id=\"T_7a27ae9e_060c_11eb_a5a9_1c4d70d8023d\" ><caption>Precision-Recall -Gradient Boost</caption><thead>    <tr>        <th class=\"blank level0\" ></th>        <th class=\"col_heading level0 col0\" >precision</th>        <th class=\"col_heading level0 col1\" >recall</th>        <th class=\"col_heading level0 col2\" >f-score</th>        <th class=\"col_heading level0 col3\" >sample_size</th>    </tr></thead><tbody>\n",
       "                <tr>\n",
       "                        <th id=\"T_7a27ae9e_060c_11eb_a5a9_1c4d70d8023dlevel0_row0\" class=\"row_heading level0 row0\" >0</th>\n",
       "                        <td id=\"T_7a27ae9e_060c_11eb_a5a9_1c4d70d8023drow0_col0\" class=\"data row0 col0\" >0.42</td>\n",
       "                        <td id=\"T_7a27ae9e_060c_11eb_a5a9_1c4d70d8023drow0_col1\" class=\"data row0 col1\" >0.54</td>\n",
       "                        <td id=\"T_7a27ae9e_060c_11eb_a5a9_1c4d70d8023drow0_col2\" class=\"data row0 col2\" >0.47</td>\n",
       "                        <td id=\"T_7a27ae9e_060c_11eb_a5a9_1c4d70d8023drow0_col3\" class=\"data row0 col3\" >337</td>\n",
       "            </tr>\n",
       "            <tr>\n",
       "                        <th id=\"T_7a27ae9e_060c_11eb_a5a9_1c4d70d8023dlevel0_row1\" class=\"row_heading level0 row1\" >1</th>\n",
       "                        <td id=\"T_7a27ae9e_060c_11eb_a5a9_1c4d70d8023drow1_col0\" class=\"data row1 col0\" >0.63</td>\n",
       "                        <td id=\"T_7a27ae9e_060c_11eb_a5a9_1c4d70d8023drow1_col1\" class=\"data row1 col1\" >0.51</td>\n",
       "                        <td id=\"T_7a27ae9e_060c_11eb_a5a9_1c4d70d8023drow1_col2\" class=\"data row1 col2\" >0.56</td>\n",
       "                        <td id=\"T_7a27ae9e_060c_11eb_a5a9_1c4d70d8023drow1_col3\" class=\"data row1 col3\" >374</td>\n",
       "            </tr>\n",
       "            <tr>\n",
       "                        <th id=\"T_7a27ae9e_060c_11eb_a5a9_1c4d70d8023dlevel0_row2\" class=\"row_heading level0 row2\" >2</th>\n",
       "                        <td id=\"T_7a27ae9e_060c_11eb_a5a9_1c4d70d8023drow2_col0\" class=\"data row2 col0\" >0.46</td>\n",
       "                        <td id=\"T_7a27ae9e_060c_11eb_a5a9_1c4d70d8023drow2_col1\" class=\"data row2 col1\" >0.42</td>\n",
       "                        <td id=\"T_7a27ae9e_060c_11eb_a5a9_1c4d70d8023drow2_col2\" class=\"data row2 col2\" >0.44</td>\n",
       "                        <td id=\"T_7a27ae9e_060c_11eb_a5a9_1c4d70d8023drow2_col3\" class=\"data row2 col3\" >372</td>\n",
       "            </tr>\n",
       "    </tbody></table>"
      ],
      "text/plain": [
       "<pandas.io.formats.style.Styler at 0x24b37dfdc88>"
      ]
     },
     "execution_count": 134,
     "metadata": {},
     "output_type": "execute_result"
    }
   ],
   "source": [
    "prec_re(y_test,y_pred_gb, 'Gradient Boost')"
   ]
  },
  {
   "cell_type": "code",
   "execution_count": null,
   "metadata": {},
   "outputs": [],
   "source": []
  },
  {
   "cell_type": "code",
   "execution_count": null,
   "metadata": {},
   "outputs": [],
   "source": []
  },
  {
   "cell_type": "code",
   "execution_count": null,
   "metadata": {},
   "outputs": [],
   "source": []
  },
  {
   "cell_type": "code",
   "execution_count": null,
   "metadata": {},
   "outputs": [],
   "source": []
  },
  {
   "cell_type": "code",
   "execution_count": null,
   "metadata": {},
   "outputs": [],
   "source": []
  },
  {
   "cell_type": "code",
   "execution_count": null,
   "metadata": {},
   "outputs": [],
   "source": []
  },
  {
   "cell_type": "code",
   "execution_count": null,
   "metadata": {},
   "outputs": [],
   "source": []
  },
  {
   "cell_type": "code",
   "execution_count": null,
   "metadata": {},
   "outputs": [],
   "source": []
  },
  {
   "cell_type": "code",
   "execution_count": null,
   "metadata": {},
   "outputs": [],
   "source": []
  },
  {
   "cell_type": "code",
   "execution_count": 96,
   "metadata": {},
   "outputs": [],
   "source": [
    "### All the other models not used because their score is slightly worse then GB"
   ]
  },
  {
   "cell_type": "code",
   "execution_count": 82,
   "metadata": {},
   "outputs": [],
   "source": [
    "param_grid = [\n",
    "    {\n",
    "    'n_estimators' : list(range(10,101,10)),\n",
    "    'max_features': [5,4,2], \n",
    "    'max_depth'    : [2, 3, 5, 10],\n",
    "    } \n",
    "]\n",
    "\n",
    "RF=RandomForestClassifier()\n",
    "RF_cv=GridSearchCV(RF, param_grid, cv=5)\n",
    "RF_cv.fit(X_train, y_train)\n",
    "\n",
    "y_pred_RF=RF_cv.predict(X_test)"
   ]
  },
  {
   "cell_type": "code",
   "execution_count": 94,
   "metadata": {},
   "outputs": [
    {
     "data": {
      "text/plain": [
       "0.47460757156048017"
      ]
     },
     "execution_count": 94,
     "metadata": {},
     "output_type": "execute_result"
    }
   ],
   "source": [
    "accuracy_score(y_test, y_pred_RF)"
   ]
  },
  {
   "cell_type": "code",
   "execution_count": 83,
   "metadata": {},
   "outputs": [
    {
     "data": {
      "text/plain": [
       "(0.5010800047410218, {'max_depth': 3, 'max_features': 4, 'n_estimators': 60})"
      ]
     },
     "execution_count": 83,
     "metadata": {},
     "output_type": "execute_result"
    }
   ],
   "source": [
    "RF_cv.best_score_, RF_cv.best_params_"
   ]
  },
  {
   "cell_type": "code",
   "execution_count": 84,
   "metadata": {},
   "outputs": [
    {
     "data": {
      "image/png": "[encoded data removed]",
      "text/plain": [
       "<Figure size 576x288 with 1 Axes>"
      ]
     },
     "metadata": {
      "needs_background": "light"
     },
     "output_type": "display_data"
    }
   ],
   "source": [
    "cm=confusion_matrix(y_test, y_pred_RF,  labels=[0, 1, 2])\n",
    "cf.make_confusion_matrix(cm, figsize=(8,4), cbar=False, title='Confusion Matrix - RF')\n",
    "#plt.savefig('CM-RF.jpg', bbox_inches = \"tight\")\n",
    "#Accuracy is sum of diagonal divided by total observations"
   ]
  },
  {
   "cell_type": "code",
   "execution_count": 75,
   "metadata": {},
   "outputs": [
    {
     "ename": "NameError",
     "evalue": "name 'RF_cv' is not defined",
     "output_type": "error",
     "traceback": [
      "\u001b[1;31m---------------------------------------------------------------------------\u001b[0m",
      "\u001b[1;31mNameError\u001b[0m                                 Traceback (most recent call last)",
      "\u001b[1;32m<ipython-input-75-fac2e5205f36>\u001b[0m in \u001b[0;36m<module>\u001b[1;34m\u001b[0m\n\u001b[0;32m      1\u001b[0m \u001b[0mfig\u001b[0m\u001b[1;33m,\u001b[0m \u001b[0maxes\u001b[0m\u001b[1;33m=\u001b[0m\u001b[0mplt\u001b[0m\u001b[1;33m.\u001b[0m\u001b[0msubplots\u001b[0m\u001b[1;33m(\u001b[0m\u001b[1;36m1\u001b[0m\u001b[1;33m,\u001b[0m\u001b[1;36m1\u001b[0m\u001b[1;33m,\u001b[0m \u001b[0mfigsize\u001b[0m\u001b[1;33m=\u001b[0m\u001b[1;33m(\u001b[0m\u001b[1;36m8\u001b[0m\u001b[1;33m,\u001b[0m\u001b[1;36m5\u001b[0m\u001b[1;33m)\u001b[0m\u001b[1;33m)\u001b[0m\u001b[1;33m\u001b[0m\u001b[1;33m\u001b[0m\u001b[0m\n\u001b[1;32m----> 2\u001b[1;33m \u001b[0mfeature_importance\u001b[0m\u001b[1;33m(\u001b[0m\u001b[0mRF_cv\u001b[0m\u001b[1;33m.\u001b[0m\u001b[0mbest_estimator_\u001b[0m\u001b[1;33m,\u001b[0m \u001b[0maxes\u001b[0m\u001b[1;33m,\u001b[0m \u001b[1;34m'RF_cv'\u001b[0m\u001b[1;33m)\u001b[0m\u001b[1;33m\u001b[0m\u001b[1;33m\u001b[0m\u001b[0m\n\u001b[0m\u001b[0;32m      3\u001b[0m \u001b[0mplt\u001b[0m\u001b[1;33m.\u001b[0m\u001b[0mtight_layout\u001b[0m\u001b[1;33m(\u001b[0m\u001b[1;33m)\u001b[0m\u001b[1;33m\u001b[0m\u001b[1;33m\u001b[0m\u001b[0m\n",
      "\u001b[1;31mNameError\u001b[0m: name 'RF_cv' is not defined"
     ]
    },
    {
     "data": {
      "image/png": "[encoded data removed]",
      "text/plain": [
       "<Figure size 576x360 with 1 Axes>"
      ]
     },
     "metadata": {
      "needs_background": "light"
     },
     "output_type": "display_data"
    }
   ],
   "source": [
    "fig, axes=plt.subplots(1,1, figsize=(8,5))\n",
    "feature_importance(RF_cv.best_estimator_, axes, 'RF_cv')\n",
    "plt.tight_layout()"
   ]
  },
  {
   "cell_type": "code",
   "execution_count": 89,
   "metadata": {},
   "outputs": [],
   "source": [
    "xgb_model = xgb.XGBClassifier(objective=\"multi:softprob\", random_state=42)\n",
    "xgb_model.fit(X_train, y_train)\n",
    "\n",
    "y_pred_XG = xgb_model.predict(X_test)"
   ]
  },
  {
   "cell_type": "code",
   "execution_count": 95,
   "metadata": {},
   "outputs": [
    {
     "data": {
      "text/plain": [
       "0.46075715604801476"
      ]
     },
     "execution_count": 95,
     "metadata": {},
     "output_type": "execute_result"
    }
   ],
   "source": [
    "accuracy_score(y_test, y_pred_XG)"
   ]
  },
  {
   "cell_type": "code",
   "execution_count": 90,
   "metadata": {},
   "outputs": [
    {
     "data": {
      "image/png": "[encoded data removed]",
      "text/plain": [
       "<Figure size 576x288 with 1 Axes>"
      ]
     },
     "metadata": {
      "needs_background": "light"
     },
     "output_type": "display_data"
    }
   ],
   "source": [
    "cm=confusion_matrix(y_test, y_pred_XG,  labels=[0, 1, 2])\n",
    "cf.make_confusion_matrix(cm, figsize=(8,4), cbar=False, title='Confusion Matrix - XG')\n",
    "#plt.savefig('CM-RF.jpg', bbox_inches = \"tight\")\n",
    "#Accuracy is sum of diagonal divided by total observations"
   ]
  },
  {
   "cell_type": "code",
   "execution_count": null,
   "metadata": {},
   "outputs": [],
   "source": []
  }
 ],
 "metadata": {
  "kernelspec": {
   "display_name": "Python 3",
   "language": "python",
   "name": "python3"
  },
  "language_info": {
   "codemirror_mode": {
    "name": "ipython",
    "version": 3
   },
   "file_extension": ".py",
   "mimetype": "text/x-python",
   "name": "python",
   "nbconvert_exporter": "python",
   "pygments_lexer": "ipython3",
   "version": "3.7.6"
  }
 },
 "nbformat": 4,
 "nbformat_minor": 4
}
